{
 "cells": [
  {
   "cell_type": "markdown",
   "id": "58cb0023",
   "metadata": {},
   "source": [
    "Create summaries for datasets\n",
    "===\n",
    "\n",
    "We are interested in seeing the proportion of negative flows currently produced by the scripts."
   ]
  },
  {
   "cell_type": "code",
   "execution_count": 192,
   "id": "58dac4ea",
   "metadata": {},
   "outputs": [
    {
     "name": "stdout",
     "output_type": "stream",
     "text": [
      "Input config:\n",
      "{'datasets': [{'basins_filepath': 'inputs/LOI_delineations/LOI_delineations/NC_sites_FINAL_watersheds_v2.shp',\n",
      "               'flow_filepath': 'processed_inputs/NC_sites_FINAL_v2_unimpaired_flow.csv',\n",
      "               'output_directory': 'outputs/nc_sites_final'},\n",
      "              {'basins_filepath': 'inputs/LOI_delineations/LOI_delineations/Biosites_NCoast_delineations_QA.shp',\n",
      "               'flow_filepath': 'processed_inputs/N_Coast_BioSites_Unimpaired_Flow.csv',\n",
      "               'output_directory': 'outputs/biosites'},\n",
      "              {'basins_filepath': 'inputs/LOI_delineations/LOI_delineations/All_gages_delineations_combined.shp',\n",
      "               'flow_filepath': 'processed_inputs/All_gages_unimpaired_flow.csv',\n",
      "               'output_directory': 'outputs/gages'},\n",
      "              {'basins_filepath': 'processed_inputs/delineations/McBain_sites_snapped_NAD83_watersheds.shp',\n",
      "               'flow_filepath': 'processed_inputs/McBain_Sites_Unimpaired_Flow.csv',\n",
      "               'output_directory': 'outputs/mcbainsites'},\n",
      "              {'basins_filepath': 'inputs/LOI_delineations/LOI_delineations/SFE_sites_highresolution_watersheds.shp',\n",
      "               'flow_filepath': 'processed_inputs/SFE_sites_highresolution_Unimpaired_Flow.csv',\n",
      "               'output_directory': 'outputs/SFEhighresolution'},\n",
      "              {'basins_filepath': 'processed_inputs/delineations/SFE_sites_mainstem_watersheds.shp',\n",
      "               'flow_filepath': 'processed_inputs/SFE_sites_mainstem_Unimpaired_Flow.csv',\n",
      "               'output_directory': 'outputs/SFEmainstem'}],\n",
      " 'demand_data': {'demand_consumption': 'inputs/annual_demand_consumptive_only.csv',\n",
      "                 'demand_coordinates': 'inputs/annual_demand_coordinates_POD_IDs.csv'}}\n"
     ]
    }
   ],
   "source": [
    "import pprint\n",
    "import yaml\n",
    "from pathlib import Path\n",
    "import pandas as pd\n",
    "import os\n",
    "\n",
    "# READ YAML CONFIG:\n",
    "INPUT_FILENAME = \"inputs.yaml\"\n",
    "try:\n",
    "    with open(INPUT_FILENAME) as config_file:\n",
    "        input_config = yaml.safe_load(config_file)\n",
    "except FileNotFoundError:\n",
    "    print(f\"Error loading '{INPUT_FILENAME}'. File not found.\")\n",
    "except yaml.YAMLError:\n",
    "    print(f\"Error parsing YAML file '{INPUT_FILENAME}'.\")\n",
    "except Exception as e:\n",
    "    print(f\"An unexpected error occurred: {e}\")\n",
    "\n",
    "print(\"Input config:\")\n",
    "pprint.pprint(input_config)"
   ]
  },
  {
   "cell_type": "code",
   "execution_count": 193,
   "id": "96fe7e57",
   "metadata": {},
   "outputs": [
    {
     "name": "stdout",
     "output_type": "stream",
     "text": [
      "Working on nc_sites_final\n",
      "\n",
      "Daily (head)\n",
      "                               negative_days  total_days  percentage_negative\n",
      "dataset        siteID                                                       \n",
      "nc_sites_final NC_CH_1_0862             0.0        2981                 0.00\n",
      "               NC_CH_1_11386            0.0        2647                 0.00\n",
      "               NC_CH_1_13552            0.0        2647                 0.00\n",
      "               NC_CH_1_14301            0.0        2647                 0.00\n",
      "               NC_CH_1_15014          163.0        2647                 6.16\n",
      "Monthly (head)\n",
      "                               negative_days  total_days  percentage_negative\n",
      "dataset        siteID                                                       \n",
      "nc_sites_final NC_CH_1_0862             0.0          98                  0.0\n",
      "               NC_CH_1_11386            0.0          87                  0.0\n",
      "               NC_CH_1_13552            0.0          87                  0.0\n",
      "               NC_CH_1_14301            0.0          87                  0.0\n",
      "               NC_CH_1_15014            0.0          87                  0.0\n",
      "\n",
      "Working on biosites\n",
      "\n",
      "Daily (head)\n",
      "                     negative_days  total_days  percentage_negative\n",
      "dataset  siteID                                                   \n",
      "biosites 107GWCAPC            0.0        2981                 0.00\n",
      "         107LLM101            0.0        2981                 0.00\n",
      "         107PS0021            0.0        2981                 0.00\n",
      "         107RWCBHW           95.0        2981                 3.19\n",
      "         107WE0605          219.0        2981                 7.35\n",
      "Monthly (head)\n",
      "                     negative_days  total_days  percentage_negative\n",
      "dataset  siteID                                                   \n",
      "biosites 107GWCAPC            0.0          98                 0.00\n",
      "         107LLM101            0.0          98                 0.00\n",
      "         107PS0021            0.0          98                 0.00\n",
      "         107RWCBHW            5.0          98                 5.10\n",
      "         107WE0605            3.0          98                 3.06\n",
      "\n",
      "Working on gages\n",
      "\n",
      "Daily (head)\n",
      "                          negative_days  total_days  percentage_negative\n",
      "dataset siteID                                                         \n",
      "gages   MAD_001_WCT             1227.0        3103                39.54\n",
      "        MAD_012_WCT              578.0        3103                18.63\n",
      "        RedwoodCk_2_WCT           80.0        2981                 2.68\n",
      "        RedwoodCk_7_WCT          216.0        2981                 7.25\n",
      "        Unique008                989.0        2647                37.36\n",
      "Monthly (head)\n",
      "                          negative_days  total_days  percentage_negative\n",
      "dataset siteID                                                         \n",
      "gages   MAD_001_WCT                8.0         102                 7.84\n",
      "        MAD_012_WCT                1.0         102                 0.98\n",
      "        RedwoodCk_2_WCT            0.0          98                 0.00\n",
      "        RedwoodCk_7_WCT            2.0          98                 2.04\n",
      "        Unique008                  0.0          87                 0.00\n",
      "\n",
      "Working on mcbainsites\n",
      "\n",
      "Daily (head)\n",
      "                          negative_days  total_days  percentage_negative\n",
      "dataset     siteID                                                     \n",
      "mcbainsites EelRiver               0.0        2647                 0.00\n",
      "            ElkRiver               0.0        2192                 0.00\n",
      "            ShortCreek             0.0        2647                 0.00\n",
      "            SproulCreek            0.0        2647                 0.00\n",
      "            Williams             365.0        2647                13.79\n",
      "Monthly (head)\n",
      "                          negative_days  total_days  percentage_negative\n",
      "dataset     siteID                                                     \n",
      "mcbainsites EelRiver               0.0          87                  0.0\n",
      "            ElkRiver               0.0          72                  0.0\n",
      "            ShortCreek             0.0          87                  0.0\n",
      "            SproulCreek            0.0          87                  0.0\n",
      "            Williams               0.0          87                  0.0\n",
      "\n",
      "Working on SFEhighresolution\n",
      "\n",
      "Daily (head)\n",
      "                                 negative_days  total_days  percentage_negative\n",
      "dataset           siteID                                                      \n",
      "SFEhighresolution SFE_2017_209            0.0        2647                 0.00\n",
      "                  SFE_2017_221            0.0        2647                 0.00\n",
      "                  SFE_2017_24             0.0        2647                 0.00\n",
      "                  SFE_2017_25           177.0        2647                 6.69\n",
      "                  SFE_2017_322          146.0        2647                 5.52\n",
      "Monthly (head)\n",
      "                                 negative_days  total_days  percentage_negative\n",
      "dataset           siteID                                                      \n",
      "SFEhighresolution SFE_2017_209            0.0          87                  0.0\n",
      "                  SFE_2017_221            0.0          87                  0.0\n",
      "                  SFE_2017_24             0.0          87                  0.0\n",
      "                  SFE_2017_25             2.0          87                  2.3\n",
      "                  SFE_2017_322            0.0          87                  0.0\n",
      "\n",
      "Working on SFEmainstem\n",
      "\n",
      "Daily (head)\n",
      "                      negative_days  total_days  percentage_negative\n",
      "dataset     siteID                                                 \n",
      "SFEmainstem Leggett            138        2647                 5.21\n",
      "            Miranda           1062        2647                40.12\n",
      "            Scotia             987        2647                37.29\n",
      "Monthly (head)\n",
      "                      negative_days  total_days  percentage_negative\n",
      "dataset     siteID                                                 \n",
      "SFEmainstem Leggett            0.0          87                  0.0\n",
      "            Miranda            0.0          87                  0.0\n",
      "            Scotia             0.0          87                  0.0\n",
      "\n"
     ]
    }
   ],
   "source": [
    "OVERALL_DIR = Path('outputs') / 'OVERALL'\n",
    "os.makedirs(OVERALL_DIR, exist_ok=True)\n",
    "\n",
    "def summarize(data):\n",
    "    total_days = data['flow_cfs_impaired'].groupby(['dataset', 'siteID']).count()\n",
    "    days_with_negative_flow = data[data['flow_cfs_impaired'] < 0]['flow_cfs_impaired'].groupby(['dataset', 'siteID']).count()\n",
    "    total = pd.DataFrame({'total_days': total_days})\n",
    "    negative = pd.DataFrame({'negative_days': days_with_negative_flow})\n",
    "    overall = negative.join(total, how=\"right\").fillna(0)\n",
    "    overall['percentage_negative'] = (100 * overall['negative_days'] / overall['total_days']).round(2)\n",
    "    return overall\n",
    "\n",
    "gather_daily = []\n",
    "gather_monthly = []\n",
    "for dataset in input_config['datasets']:\n",
    "    output_path = Path(dataset['output_directory'])\n",
    "    dataset_name = os.path.basename(output_path)\n",
    "    print(\"Working on\", dataset_name)\n",
    "    print()\n",
    "\n",
    "\n",
    "    daily_data = pd.read_csv(output_path / \"daily.csv\")\n",
    "    daily_data['dataset'] = dataset_name\n",
    "    daily_data = daily_data.set_index(['dataset', 'siteID', 'date'])\n",
    "    gather_daily.append(daily_data)\n",
    "    summary = summarize(daily_data)\n",
    "    print(\"Daily (head)\\n\", summary.head())\n",
    "    summary.to_csv(output_path / 'daily_summary.csv')\n",
    "    \n",
    "    monthly_data = pd.read_csv(output_path / \"monthly.csv\")\n",
    "    monthly_data['dataset'] = dataset_name\n",
    "    monthly_data = monthly_data.set_index(['dataset', 'date', 'siteID'])\n",
    "    gather_monthly.append(monthly_data)\n",
    "    summary = summarize(monthly_data)\n",
    "    print(\"Monthly (head)\\n\", summary.head())\n",
    "    summary.to_csv(output_path / 'monthly_summary.csv')\n",
    "\n",
    "    print()"
   ]
  },
  {
   "cell_type": "code",
   "execution_count": 194,
   "id": "cf7f94a8",
   "metadata": {},
   "outputs": [],
   "source": [
    "overall_daily = pd.concat(gather_daily)\n",
    "overall_daily.to_csv(OVERALL_DIR / 'daily_overall.csv')\n",
    "\n",
    "overall_monthly = pd.concat(gather_monthly)\n",
    "overall_monthly.to_csv(OVERALL_DIR / 'monthly_overall.csv')"
   ]
  },
  {
   "cell_type": "code",
   "execution_count": 201,
   "id": "ef34dab1",
   "metadata": {},
   "outputs": [
    {
     "data": {
      "text/plain": [
       "(341, 5)"
      ]
     },
     "execution_count": 201,
     "metadata": {},
     "output_type": "execute_result"
    }
   ],
   "source": [
    "overall_daily.reset_index(level='date', drop=True).groupby(['dataset', 'siteID']).count().shape"
   ]
  },
  {
   "cell_type": "code",
   "execution_count": 203,
   "id": "3341b3da",
   "metadata": {},
   "outputs": [
    {
     "data": {
      "text/plain": [
       "(341, 5)"
      ]
     },
     "execution_count": 203,
     "metadata": {},
     "output_type": "execute_result"
    }
   ],
   "source": [
    "overall_monthly.reset_index(level='date', drop=True).groupby(['dataset', 'siteID']).count().shape"
   ]
  },
  {
   "cell_type": "code",
   "execution_count": 197,
   "id": "baa94cd2",
   "metadata": {},
   "outputs": [
    {
     "name": "stdout",
     "output_type": "stream",
     "text": [
      "                                negative_days  total_days  percentage_negative\n",
      "dataset           siteID                                                      \n",
      "SFEhighresolution SFE_2017_209            0.0        2647                 0.00\n",
      "                  SFE_2017_221            0.0        2647                 0.00\n",
      "                  SFE_2017_24             0.0        2647                 0.00\n",
      "                  SFE_2017_25           177.0        2647                 6.69\n",
      "                  SFE_2017_322          146.0        2647                 5.52\n",
      "                                negative_days  total_days  percentage_negative\n",
      "dataset           siteID                                                      \n",
      "SFEhighresolution SFE_2017_209            0.0          87                  0.0\n",
      "                  SFE_2017_221            0.0          87                  0.0\n",
      "                  SFE_2017_24             0.0          87                  0.0\n",
      "                  SFE_2017_25             2.0          87                  2.3\n",
      "                  SFE_2017_322            0.0          87                  0.0\n"
     ]
    }
   ],
   "source": [
    "overall_daily_summary = summarize(overall_daily)\n",
    "print(overall_daily_summary.head())\n",
    "overall_daily_summary.to_csv(OVERALL_DIR / 'daily_summary_overall.csv')\n",
    "\n",
    "overall_monthly_summary = summarize(overall_monthly)\n",
    "print(overall_monthly_summary.head())\n",
    "overall_monthly_summary.to_csv(OVERALL_DIR / 'monthly_summary_overall.csv')"
   ]
  }
 ],
 "metadata": {
  "kernelspec": {
   "display_name": "impaired_flows_calculator",
   "language": "python",
   "name": "python3"
  },
  "language_info": {
   "codemirror_mode": {
    "name": "ipython",
    "version": 3
   },
   "file_extension": ".py",
   "mimetype": "text/x-python",
   "name": "python",
   "nbconvert_exporter": "python",
   "pygments_lexer": "ipython3",
   "version": "3.9.21"
  }
 },
 "nbformat": 4,
 "nbformat_minor": 5
}
