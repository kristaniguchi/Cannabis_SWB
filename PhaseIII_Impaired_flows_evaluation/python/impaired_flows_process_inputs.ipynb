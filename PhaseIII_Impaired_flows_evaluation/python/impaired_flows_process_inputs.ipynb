{
 "cells": [
  {
   "cell_type": "code",
   "execution_count": null,
   "id": "267d5ff3",
   "metadata": {},
   "outputs": [],
   "source": [
    "import pandas as pd\n",
    "from pathlib import Path\n",
    "from os import makedirs\n",
    "\n",
    "INPUTS_DIR = Path(\"inputs\")\n",
    "DELINEATION_DIR = INPUTS_DIR / \"LOI_delineations\" / \"LOI_delineations\"\n",
    "PROCESSED_INPUTS_DIR = Path(\"processed_inputs\")\n",
    "PROCESSED_DELINEATIONS_DIR = PROCESSED_INPUTS_DIR / \"delineations\"\n",
    "\n",
    "for dir in [\n",
    "    INPUTS_DIR,\n",
    "    DELINEATION_DIR,\n",
    "    PROCESSED_INPUTS_DIR,\n",
    "    PROCESSED_DELINEATIONS_DIR,\n",
    "]:\n",
    "    makedirs(dir, exist_ok=True)"
   ]
  },
  {
   "cell_type": "code",
   "execution_count": 37,
   "id": "c37b5dc6",
   "metadata": {},
   "outputs": [
    {
     "name": "stdout",
     "output_type": "stream",
     "text": [
      "Index(['date', 'flow_cfs', 'unique_ID', 'model_ID_scaled', 'DA_ratio',\n",
      "       'flow_cfs_modelID', 'Source_File'],\n",
      "      dtype='object')\n"
     ]
    }
   ],
   "source": [
    "nc_sites_final = pd.read_csv(INPUTS_DIR / \"NC_sites_FINAL_v2_unimpaired_flow.csv\")\n",
    "print(nc_sites_final.columns)"
   ]
  },
  {
   "cell_type": "code",
   "execution_count": 38,
   "id": "a5357c92",
   "metadata": {},
   "outputs": [
    {
     "data": {
      "text/html": [
       "<div>\n",
       "<style scoped>\n",
       "    .dataframe tbody tr th:only-of-type {\n",
       "        vertical-align: middle;\n",
       "    }\n",
       "\n",
       "    .dataframe tbody tr th {\n",
       "        vertical-align: top;\n",
       "    }\n",
       "\n",
       "    .dataframe thead th {\n",
       "        text-align: right;\n",
       "    }\n",
       "</style>\n",
       "<table border=\"1\" class=\"dataframe\">\n",
       "  <thead>\n",
       "    <tr style=\"text-align: right;\">\n",
       "      <th></th>\n",
       "      <th>date</th>\n",
       "      <th>flow_cfs</th>\n",
       "      <th>unique_ID</th>\n",
       "      <th>model_ID_scaled</th>\n",
       "      <th>DA_ratio</th>\n",
       "      <th>flow_cfs_modelID</th>\n",
       "      <th>Source_File</th>\n",
       "    </tr>\n",
       "  </thead>\n",
       "  <tbody>\n",
       "    <tr>\n",
       "      <th>0</th>\n",
       "      <td>1981-10-01</td>\n",
       "      <td>0.00</td>\n",
       "      <td>NC_CH_1_0862</td>\n",
       "      <td>RWC_3</td>\n",
       "      <td>0.245882</td>\n",
       "      <td>0.00</td>\n",
       "      <td>scaled_flow_NC_CH_1_0862.csv</td>\n",
       "    </tr>\n",
       "    <tr>\n",
       "      <th>1</th>\n",
       "      <td>1981-10-02</td>\n",
       "      <td>0.05</td>\n",
       "      <td>NC_CH_1_0862</td>\n",
       "      <td>RWC_3</td>\n",
       "      <td>0.245882</td>\n",
       "      <td>0.19</td>\n",
       "      <td>scaled_flow_NC_CH_1_0862.csv</td>\n",
       "    </tr>\n",
       "    <tr>\n",
       "      <th>2</th>\n",
       "      <td>1981-10-03</td>\n",
       "      <td>0.17</td>\n",
       "      <td>NC_CH_1_0862</td>\n",
       "      <td>RWC_3</td>\n",
       "      <td>0.245882</td>\n",
       "      <td>0.69</td>\n",
       "      <td>scaled_flow_NC_CH_1_0862.csv</td>\n",
       "    </tr>\n",
       "    <tr>\n",
       "      <th>3</th>\n",
       "      <td>1981-10-04</td>\n",
       "      <td>0.10</td>\n",
       "      <td>NC_CH_1_0862</td>\n",
       "      <td>RWC_3</td>\n",
       "      <td>0.245882</td>\n",
       "      <td>0.42</td>\n",
       "      <td>scaled_flow_NC_CH_1_0862.csv</td>\n",
       "    </tr>\n",
       "    <tr>\n",
       "      <th>4</th>\n",
       "      <td>1981-10-05</td>\n",
       "      <td>0.26</td>\n",
       "      <td>NC_CH_1_0862</td>\n",
       "      <td>RWC_3</td>\n",
       "      <td>0.245882</td>\n",
       "      <td>1.06</td>\n",
       "      <td>scaled_flow_NC_CH_1_0862.csv</td>\n",
       "    </tr>\n",
       "  </tbody>\n",
       "</table>\n",
       "</div>"
      ],
      "text/plain": [
       "         date  flow_cfs     unique_ID model_ID_scaled  DA_ratio  \\\n",
       "0  1981-10-01      0.00  NC_CH_1_0862           RWC_3  0.245882   \n",
       "1  1981-10-02      0.05  NC_CH_1_0862           RWC_3  0.245882   \n",
       "2  1981-10-03      0.17  NC_CH_1_0862           RWC_3  0.245882   \n",
       "3  1981-10-04      0.10  NC_CH_1_0862           RWC_3  0.245882   \n",
       "4  1981-10-05      0.26  NC_CH_1_0862           RWC_3  0.245882   \n",
       "\n",
       "   flow_cfs_modelID                   Source_File  \n",
       "0              0.00  scaled_flow_NC_CH_1_0862.csv  \n",
       "1              0.19  scaled_flow_NC_CH_1_0862.csv  \n",
       "2              0.69  scaled_flow_NC_CH_1_0862.csv  \n",
       "3              0.42  scaled_flow_NC_CH_1_0862.csv  \n",
       "4              1.06  scaled_flow_NC_CH_1_0862.csv  "
      ]
     },
     "execution_count": 38,
     "metadata": {},
     "output_type": "execute_result"
    }
   ],
   "source": [
    "nc_sites_final.head()"
   ]
  },
  {
   "cell_type": "code",
   "execution_count": 39,
   "id": "785837a3",
   "metadata": {},
   "outputs": [],
   "source": [
    "nc_sites_final.to_csv(Path(\"processed_inputs/NC_sites_FINAL_v2_unimpaired_flow.csv\"))"
   ]
  },
  {
   "cell_type": "markdown",
   "id": "bbdb6619",
   "metadata": {},
   "source": [
    "# Biosites"
   ]
  },
  {
   "cell_type": "code",
   "execution_count": 40,
   "id": "670002a3",
   "metadata": {},
   "outputs": [
    {
     "name": "stdout",
     "output_type": "stream",
     "text": [
      "Index(['Unnamed: 0', 'date', 'flow_cfs', 'unique_ID', 'model_ID_scaled',\n",
      "       'DA_ratio', 'flow_cfs_modelID'],\n",
      "      dtype='object')\n"
     ]
    }
   ],
   "source": [
    "biosites = pd.read_csv(INPUTS_DIR / \"N_Coast_BioSites_Unimpaired_Flow.csv\")\n",
    "print(biosites.columns)"
   ]
  },
  {
   "cell_type": "markdown",
   "id": "cb48097f",
   "metadata": {},
   "source": [
    "## Notes\n",
    "Missing `Source_File` column. Extra column **Unnamed: 0**.\n",
    "\n",
    "## Actions\n",
    "- Find out from Kris if the Source_File column should be added and filled\n",
    "- Remove extra column"
   ]
  },
  {
   "cell_type": "code",
   "execution_count": 41,
   "id": "fd7cf872",
   "metadata": {},
   "outputs": [],
   "source": [
    "# Drop \"Unnamed: 0\" column / keep all other columns\n",
    "biosites = biosites[\n",
    "    [\"date\", \"flow_cfs\", \"unique_ID\", \"model_ID_scaled\", \"DA_ratio\", \"flow_cfs_modelID\"]\n",
    "]"
   ]
  },
  {
   "cell_type": "code",
   "execution_count": 42,
   "id": "9ba85876",
   "metadata": {},
   "outputs": [
    {
     "data": {
      "text/html": [
       "<div>\n",
       "<style scoped>\n",
       "    .dataframe tbody tr th:only-of-type {\n",
       "        vertical-align: middle;\n",
       "    }\n",
       "\n",
       "    .dataframe tbody tr th {\n",
       "        vertical-align: top;\n",
       "    }\n",
       "\n",
       "    .dataframe thead th {\n",
       "        text-align: right;\n",
       "    }\n",
       "</style>\n",
       "<table border=\"1\" class=\"dataframe\">\n",
       "  <thead>\n",
       "    <tr style=\"text-align: right;\">\n",
       "      <th></th>\n",
       "      <th>date</th>\n",
       "      <th>flow_cfs</th>\n",
       "      <th>unique_ID</th>\n",
       "      <th>model_ID_scaled</th>\n",
       "      <th>DA_ratio</th>\n",
       "      <th>flow_cfs_modelID</th>\n",
       "    </tr>\n",
       "  </thead>\n",
       "  <tbody>\n",
       "    <tr>\n",
       "      <th>0</th>\n",
       "      <td>1981-10-01</td>\n",
       "      <td>0.00</td>\n",
       "      <td>107GWCAPC</td>\n",
       "      <td>RWC_3</td>\n",
       "      <td>0.04077</td>\n",
       "      <td>0.00</td>\n",
       "    </tr>\n",
       "    <tr>\n",
       "      <th>1</th>\n",
       "      <td>1981-10-02</td>\n",
       "      <td>0.01</td>\n",
       "      <td>107GWCAPC</td>\n",
       "      <td>RWC_3</td>\n",
       "      <td>0.04077</td>\n",
       "      <td>0.19</td>\n",
       "    </tr>\n",
       "    <tr>\n",
       "      <th>2</th>\n",
       "      <td>1981-10-03</td>\n",
       "      <td>0.03</td>\n",
       "      <td>107GWCAPC</td>\n",
       "      <td>RWC_3</td>\n",
       "      <td>0.04077</td>\n",
       "      <td>0.69</td>\n",
       "    </tr>\n",
       "    <tr>\n",
       "      <th>3</th>\n",
       "      <td>1981-10-04</td>\n",
       "      <td>0.02</td>\n",
       "      <td>107GWCAPC</td>\n",
       "      <td>RWC_3</td>\n",
       "      <td>0.04077</td>\n",
       "      <td>0.42</td>\n",
       "    </tr>\n",
       "    <tr>\n",
       "      <th>4</th>\n",
       "      <td>1981-10-05</td>\n",
       "      <td>0.04</td>\n",
       "      <td>107GWCAPC</td>\n",
       "      <td>RWC_3</td>\n",
       "      <td>0.04077</td>\n",
       "      <td>1.06</td>\n",
       "    </tr>\n",
       "  </tbody>\n",
       "</table>\n",
       "</div>"
      ],
      "text/plain": [
       "         date  flow_cfs  unique_ID model_ID_scaled  DA_ratio  flow_cfs_modelID\n",
       "0  1981-10-01      0.00  107GWCAPC           RWC_3   0.04077              0.00\n",
       "1  1981-10-02      0.01  107GWCAPC           RWC_3   0.04077              0.19\n",
       "2  1981-10-03      0.03  107GWCAPC           RWC_3   0.04077              0.69\n",
       "3  1981-10-04      0.02  107GWCAPC           RWC_3   0.04077              0.42\n",
       "4  1981-10-05      0.04  107GWCAPC           RWC_3   0.04077              1.06"
      ]
     },
     "execution_count": 42,
     "metadata": {},
     "output_type": "execute_result"
    }
   ],
   "source": [
    "biosites.head()"
   ]
  },
  {
   "cell_type": "markdown",
   "id": "57900325",
   "metadata": {},
   "source": [
    "## Write processed input file\n",
    "\n",
    "...to `processed_inputs` directory."
   ]
  },
  {
   "cell_type": "code",
   "execution_count": 43,
   "id": "9638c7e8",
   "metadata": {},
   "outputs": [],
   "source": [
    "biosites.to_csv(PROCESSED_INPUTS_DIR / \"N_Coast_BioSites_Unimpaired_Flow.csv\")"
   ]
  },
  {
   "cell_type": "markdown",
   "id": "55a19406",
   "metadata": {},
   "source": [
    "# Gages"
   ]
  },
  {
   "cell_type": "code",
   "execution_count": 44,
   "id": "4ab795dd",
   "metadata": {},
   "outputs": [
    {
     "name": "stdout",
     "output_type": "stream",
     "text": [
      "Index(['Shp_Lng', 'Shap_Ar', 'SUBNUM', 'Subbasn', 'Mdl_bbv', 'Modl_ID',\n",
      "       'HUC8_Sb', 'Gage_ID', 'Gage_Nm', 'Type', 'Type2', 'Vldtn_N', 'PRMS_Sb',\n",
      "       'Nsh_S_E', 'R_squrd', 'NRMSE', 'Notes', 'Mdl_bbr', 'UniquID', 'Shp_L_1',\n",
      "       'StatnCd', 'geometry'],\n",
      "      dtype='object')\n"
     ]
    },
    {
     "data": {
      "text/html": [
       "<div>\n",
       "<style scoped>\n",
       "    .dataframe tbody tr th:only-of-type {\n",
       "        vertical-align: middle;\n",
       "    }\n",
       "\n",
       "    .dataframe tbody tr th {\n",
       "        vertical-align: top;\n",
       "    }\n",
       "\n",
       "    .dataframe thead th {\n",
       "        text-align: right;\n",
       "    }\n",
       "</style>\n",
       "<table border=\"1\" class=\"dataframe\">\n",
       "  <thead>\n",
       "    <tr style=\"text-align: right;\">\n",
       "      <th></th>\n",
       "      <th>model_ID</th>\n",
       "      <th>unique_ID</th>\n",
       "    </tr>\n",
       "  </thead>\n",
       "  <tbody>\n",
       "    <tr>\n",
       "      <th>0</th>\n",
       "      <td>ELR_2</td>\n",
       "      <td>None</td>\n",
       "    </tr>\n",
       "    <tr>\n",
       "      <th>2</th>\n",
       "      <td>ER_100</td>\n",
       "      <td>Unique100</td>\n",
       "    </tr>\n",
       "    <tr>\n",
       "      <th>3</th>\n",
       "      <td>ER_103</td>\n",
       "      <td>Unique103</td>\n",
       "    </tr>\n",
       "    <tr>\n",
       "      <th>1</th>\n",
       "      <td>ER_11</td>\n",
       "      <td>Unique011</td>\n",
       "    </tr>\n",
       "    <tr>\n",
       "      <th>8</th>\n",
       "      <td>ER_112</td>\n",
       "      <td>Unique112</td>\n",
       "    </tr>\n",
       "  </tbody>\n",
       "</table>\n",
       "</div>"
      ],
      "text/plain": [
       "  model_ID  unique_ID\n",
       "0    ELR_2       None\n",
       "2   ER_100  Unique100\n",
       "3   ER_103  Unique103\n",
       "1    ER_11  Unique011\n",
       "8   ER_112  Unique112"
      ]
     },
     "execution_count": 44,
     "metadata": {},
     "output_type": "execute_result"
    }
   ],
   "source": [
    "import geopandas as gp\n",
    "\n",
    "gages_shp = gp.read_file(DELINEATION_DIR / \"All_gages_delineations_combined.shp\")\n",
    "print(gages_shp.columns)\n",
    "model_site_map = gages_shp[[\"Modl_ID\", \"UniquID\"]].sort_values(\n",
    "    by=[\"Modl_ID\", \"UniquID\"]\n",
    ")\n",
    "model_site_map = model_site_map.rename(\n",
    "    columns={\"Modl_ID\": \"model_ID\", \"UniquID\": \"unique_ID\"}\n",
    ")\n",
    "model_site_map.head()"
   ]
  },
  {
   "cell_type": "code",
   "execution_count": 45,
   "id": "4b02c01a",
   "metadata": {},
   "outputs": [
    {
     "name": "stdout",
     "output_type": "stream",
     "text": [
      "date         datetime64[ns]\n",
      "model_ID             object\n",
      "flow_cfs            float64\n",
      "unique_ID            object\n",
      "dtype: object\n"
     ]
    },
    {
     "data": {
      "text/html": [
       "<div>\n",
       "<style scoped>\n",
       "    .dataframe tbody tr th:only-of-type {\n",
       "        vertical-align: middle;\n",
       "    }\n",
       "\n",
       "    .dataframe tbody tr th {\n",
       "        vertical-align: top;\n",
       "    }\n",
       "\n",
       "    .dataframe thead th {\n",
       "        text-align: right;\n",
       "    }\n",
       "</style>\n",
       "<table border=\"1\" class=\"dataframe\">\n",
       "  <thead>\n",
       "    <tr style=\"text-align: right;\">\n",
       "      <th></th>\n",
       "      <th>date</th>\n",
       "      <th>model_ID</th>\n",
       "      <th>flow_cfs</th>\n",
       "      <th>unique_ID</th>\n",
       "    </tr>\n",
       "  </thead>\n",
       "  <tbody>\n",
       "    <tr>\n",
       "      <th>0</th>\n",
       "      <td>1982-10-01</td>\n",
       "      <td>ER_8</td>\n",
       "      <td>130.80</td>\n",
       "      <td>Unique008</td>\n",
       "    </tr>\n",
       "    <tr>\n",
       "      <th>1</th>\n",
       "      <td>1982-10-02</td>\n",
       "      <td>ER_8</td>\n",
       "      <td>126.11</td>\n",
       "      <td>Unique008</td>\n",
       "    </tr>\n",
       "    <tr>\n",
       "      <th>2</th>\n",
       "      <td>1982-10-03</td>\n",
       "      <td>ER_8</td>\n",
       "      <td>122.03</td>\n",
       "      <td>Unique008</td>\n",
       "    </tr>\n",
       "    <tr>\n",
       "      <th>3</th>\n",
       "      <td>1982-10-04</td>\n",
       "      <td>ER_8</td>\n",
       "      <td>117.86</td>\n",
       "      <td>Unique008</td>\n",
       "    </tr>\n",
       "    <tr>\n",
       "      <th>4</th>\n",
       "      <td>1982-10-05</td>\n",
       "      <td>ER_8</td>\n",
       "      <td>114.07</td>\n",
       "      <td>Unique008</td>\n",
       "    </tr>\n",
       "  </tbody>\n",
       "</table>\n",
       "</div>"
      ],
      "text/plain": [
       "        date model_ID  flow_cfs  unique_ID\n",
       "0 1982-10-01     ER_8    130.80  Unique008\n",
       "1 1982-10-02     ER_8    126.11  Unique008\n",
       "2 1982-10-03     ER_8    122.03  Unique008\n",
       "3 1982-10-04     ER_8    117.86  Unique008\n",
       "4 1982-10-05     ER_8    114.07  Unique008"
      ]
     },
     "execution_count": 45,
     "metadata": {},
     "output_type": "execute_result"
    }
   ],
   "source": [
    "gages_unimpared = pd.read_csv(INPUTS_DIR / \"All_gages_unimpaired_flow.csv\")\n",
    "gages_unimpared = gages_unimpared[[\"date\", \"model_ID\", \"flow_cfs\"]].merge(\n",
    "    model_site_map, how=\"left\"\n",
    ")\n",
    "gages_unimpared[\"date\"] = pd.to_datetime(gages_unimpared[\"date\"], format=r\"%m/%d/%Y\")\n",
    "print(gages_unimpared.dtypes)\n",
    "gages_unimpared.head()"
   ]
  },
  {
   "cell_type": "code",
   "execution_count": null,
   "id": "e790e018",
   "metadata": {},
   "outputs": [],
   "source": [
    "gages_unimpared.to_csv(PROCESSED_INPUTS_DIR / \"All_gages_unimpaired_flow.csv\")"
   ]
  },
  {
   "cell_type": "markdown",
   "id": "c71279ba",
   "metadata": {},
   "source": [
    "# McBain"
   ]
  },
  {
   "cell_type": "markdown",
   "id": "2fce17f6",
   "metadata": {},
   "source": [
    "Shapefile: Rename Site as siteID and \n",
    "Flow: Convert date column appropriately"
   ]
  },
  {
   "cell_type": "code",
   "execution_count": 64,
   "id": "378213e4",
   "metadata": {},
   "outputs": [
    {
     "name": "stdout",
     "output_type": "stream",
     "text": [
      "Index(['Shape_Leng', 'Shape_Area', 'Site', 'Notes', 'geometry'], dtype='object')\n",
      "            date    flow_cfs unique_ID model_ID_scaled  DA_ratio  \\\n",
      "0     1982-10-01  166.823522  EelRiver            ER_1  0.981257   \n",
      "1     1982-10-02  160.749541  EelRiver            ER_1  0.981257   \n",
      "2     1982-10-03  155.519440  EelRiver            ER_1  0.981257   \n",
      "3     1982-10-04  150.122526  EelRiver            ER_1  0.981257   \n",
      "4     1982-10-05  145.235866  EelRiver            ER_1  0.981257   \n",
      "...          ...         ...       ...             ...       ...   \n",
      "72040 2022-03-27    1.114988  Williams           ER_62  0.913924   \n",
      "72041 2022-03-28    1.297772  Williams           ER_62  0.913924   \n",
      "72042 2022-03-29    1.581089  Williams           ER_62  0.913924   \n",
      "72043 2022-03-30    1.361747  Williams           ER_62  0.913924   \n",
      "72044 2022-03-31    1.297772  Williams           ER_62  0.913924   \n",
      "\n",
      "       flow_cfs_modelID  \n",
      "0                170.01  \n",
      "1                163.82  \n",
      "2                158.49  \n",
      "3                152.99  \n",
      "4                148.01  \n",
      "...                 ...  \n",
      "72040              1.22  \n",
      "72041              1.42  \n",
      "72042              1.73  \n",
      "72043              1.49  \n",
      "72044              1.42  \n",
      "\n",
      "[72045 rows x 6 columns]\n"
     ]
    }
   ],
   "source": [
    "import geopandas as gp\n",
    "import pandas as pd\n",
    "\n",
    "\n",
    "mcbain_shp = gp.read_file(DELINEATION_DIR / \"McBain_sites_snapped_NAD83_watersheds.shp\")\n",
    "print(mcbain_shp.columns)\n",
    "mcbain_shp = mcbain_shp.rename(columns={\"Site\": \"siteID\"})\n",
    "\n",
    "mcbain_unimpaired = pd.read_csv(INPUTS_DIR / \"McBain_Sites_Unimpaired_Flow.csv\")\n",
    "mcbain_unimpaired[\"date\"] = pd.to_datetime(\n",
    "    mcbain_unimpaired[\"date\"], format=r\"%m/%d/%Y\"\n",
    ")\n",
    "print(mcbain_unimpaired)"
   ]
  },
  {
   "cell_type": "code",
   "execution_count": 48,
   "id": "8864a6a7",
   "metadata": {},
   "outputs": [
    {
     "name": "stderr",
     "output_type": "stream",
     "text": [
      "c:\\Users\\AlondraGonzalez\\anaconda3\\envs\\impaired_flows_calculator\\lib\\site-packages\\pyogrio\\raw.py:723: RuntimeWarning: Value 101176608.120000005 of field Shape_Area of feature 3 not successfully written. Possibly due to too larger number with respect to field width\n",
      "  ogr_write(\n",
      "c:\\Users\\AlondraGonzalez\\anaconda3\\envs\\impaired_flows_calculator\\lib\\site-packages\\pyogrio\\raw.py:723: RuntimeWarning: Value 9346816508.10000038 of field Shape_Area of feature 7 not successfully written. Possibly due to too larger number with respect to field width\n",
      "  ogr_write(\n"
     ]
    }
   ],
   "source": [
    "mcbain_unimpaired.to_csv(PROCESSED_INPUTS_DIR / \"McBain_Sites_Unimpaired_Flow.csv\")\n",
    "\n",
    "mcbain_shp.to_file(\n",
    "    PROCESSED_DELINEATIONS_DIR / \"McBain_sites_snapped_NAD83_watersheds.shp\"\n",
    ")"
   ]
  },
  {
   "cell_type": "markdown",
   "id": "57008251",
   "metadata": {},
   "source": [
    "# SFE sites high resolution"
   ]
  },
  {
   "cell_type": "code",
   "execution_count": 61,
   "id": "fa13f1a3",
   "metadata": {},
   "outputs": [
    {
     "name": "stdout",
     "output_type": "stream",
     "text": [
      "             date  flow_cfs     unique_ID model_ID_scaled  DA_ratio  \\\n",
      "0      1982-10-01  0.066516  SFE_2017_209          ER_100  0.059925   \n",
      "1      1982-10-02  0.064119  SFE_2017_209          ER_100  0.059925   \n",
      "2      1982-10-03  0.061722  SFE_2017_209          ER_100  0.059925   \n",
      "3      1982-10-04  0.059925  SFE_2017_209          ER_100  0.059925   \n",
      "4      1982-10-05  0.058127  SFE_2017_209          ER_100  0.059925   \n",
      "...           ...       ...           ...             ...       ...   \n",
      "158692 2022-03-27  2.942510   SFE_2018_82          ER_120  0.253446   \n",
      "158693 2022-03-28  2.988130   SFE_2018_82          ER_120  0.253446   \n",
      "158694 2022-03-29  3.043888   SFE_2018_82          ER_120  0.253446   \n",
      "158695 2022-03-30  2.871545   SFE_2018_82          ER_120  0.253446   \n",
      "158696 2022-03-31  2.782839   SFE_2018_82          ER_120  0.253446   \n",
      "\n",
      "        flow_cfs_modelID  \n",
      "0                   1.11  \n",
      "1                   1.07  \n",
      "2                   1.03  \n",
      "3                   1.00  \n",
      "4                   0.97  \n",
      "...                  ...  \n",
      "158692             11.61  \n",
      "158693             11.79  \n",
      "158694             12.01  \n",
      "158695             11.33  \n",
      "158696             10.98  \n",
      "\n",
      "[158697 rows x 6 columns]\n"
     ]
    }
   ],
   "source": [
    "import geopandas as gp\n",
    "import pandas as pd\n",
    "from datetime import datetime, timedelta\n",
    "\n",
    "highresolution_shp = gp.read_file(\n",
    "    DELINEATION_DIR / \"SFE_sites_highresolution_watersheds.shp\"\n",
    ")\n",
    "\n",
    "highresolution_unimpaired = pd.read_csv(\n",
    "    INPUTS_DIR / \"SFE_sites_highresolution_Unimpaired_Flow.csv\"\n",
    ")\n",
    "\n",
    "\n",
    "def excel_serial_to_date(x):\n",
    "    return datetime(1899, 12, 30) + timedelta(days=x)\n",
    "\n",
    "\n",
    "highresolution_unimpaired[\"date\"] = highresolution_unimpaired[\"date\"].apply(\n",
    "    excel_serial_to_date\n",
    ")\n",
    "print(highresolution_unimpaired)\n",
    "\n",
    "\n",
    "highresolution_unimpaired.to_csv(\n",
    "    PROCESSED_INPUTS_DIR / \"SFE_sites_highresolution_Unimpaired_Flow.csv\"\n",
    ")"
   ]
  },
  {
   "cell_type": "markdown",
   "id": "18ee1d72",
   "metadata": {},
   "source": [
    "# SFE sites mainstem"
   ]
  },
  {
   "cell_type": "code",
   "execution_count": 72,
   "id": "2669980c",
   "metadata": {},
   "outputs": [
    {
     "name": "stdout",
     "output_type": "stream",
     "text": [
      "Index(['Shape_Leng', 'Shape_Area', 'Site', 'geometry'], dtype='object')\n"
     ]
    }
   ],
   "source": [
    "import geopandas as gp\n",
    "import pandas as pd\n",
    "\n",
    "mainstem_shp = gp.read_file(DELINEATION_DIR / \"SFE_sites_mainstem_watersheds.shp\")\n",
    "print(mainstem_shp.columns)\n",
    "mainstem_shp = mainstem_shp.rename(columns={\"Site\": \"siteID\"})\n",
    "\n",
    "mainstem_shp.to_file(PROCESSED_DELINEATIONS_DIR / \"SFE_sites_mainstem_watersheds.shp\")\n",
    "\n",
    "\n",
    "mainstem_unimpaired = pd.read_csv(INPUTS_DIR / \"SFE_sites_mainstem_Unimpaired_Flow.csv\")\n",
    "mainstem_unimpaired[\"date\"] = pd.to_datetime(\n",
    "    mainstem_unimpaired[\"date\"], format=r\"%m/%d/%Y\"\n",
    ")\n",
    "\n",
    "mainstem_unimpaired.to_csv(\n",
    "    PROCESSED_INPUTS_DIR / \"SFE_sites_mainstem_Unimpaired_Flow.csv\"\n",
    ")\n"
   ]
  }
 ],
 "metadata": {
  "kernelspec": {
   "display_name": "impaired_flows_calculator",
   "language": "python",
   "name": "python3"
  },
  "language_info": {
   "codemirror_mode": {
    "name": "ipython",
    "version": 3
   },
   "file_extension": ".py",
   "mimetype": "text/x-python",
   "name": "python",
   "nbconvert_exporter": "python",
   "pygments_lexer": "ipython3",
   "version": "3.9.21"
  }
 },
 "nbformat": 4,
 "nbformat_minor": 5
}
